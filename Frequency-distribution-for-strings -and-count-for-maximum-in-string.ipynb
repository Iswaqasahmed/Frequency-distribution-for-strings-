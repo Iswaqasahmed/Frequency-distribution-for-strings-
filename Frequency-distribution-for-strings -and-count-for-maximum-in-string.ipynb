{
 "cells": [
  {
   "cell_type": "code",
   "execution_count": 1,
   "metadata": {},
   "outputs": [],
   "source": [
    "# Read 📖  Mode of File \n",
    "with open ('test.txt','w') as f:\n",
    "    f.write('karachi')"
   ]
  },
  {
   "cell_type": "code",
   "execution_count": 2,
   "metadata": {},
   "outputs": [],
   "source": [
    "# write 📝 Mode of File:\n",
    "with open ('test.txt','r') as f:\n",
    "    Read = f.read()"
   ]
  },
  {
   "cell_type": "code",
   "execution_count": 3,
   "metadata": {},
   "outputs": [
    {
     "name": "stdout",
     "output_type": "stream",
     "text": [
      "The seventh edition of Digital Principles and Applications continues with the upgradation of the work started in its previous edition. The job was to build upon the strengths of one of the best introductory and authentic texts in the field of Digital Electronics-its lucid language, down-to-earth approach, detailed analysis and ready-to-use information for laboratory practices. The sixth edition sought improvement primarily by (i) strengthening the design or synthesis aspect that included advanced material, such as a simple computer design, and (ii) incorporating many new topics like Hardware Description Language, Asynchronous Sequential Circuit, Algorithm State Machine chart, Quine-McClusky algorithm, Look Ahead Carry Adder, etc. exit \n",
      "exit\n"
     ]
    }
   ],
   "source": [
    "# Write 📝  File untill your not enter quite eexplicitly \n",
    "with open ('test.txt','w') as f:\n",
    "    while True:\n",
    "            inp = input()\n",
    "            if inp == 'exit':\n",
    "                break\n",
    "            else:\n",
    "                f.write(inp)"
   ]
  },
  {
   "cell_type": "code",
   "execution_count": 4,
   "metadata": {},
   "outputs": [],
   "source": [
    "# 2) After writing a file second task it to read that file in a read 📖 mode.\n",
    "with open ('test.txt','r') as f:\n",
    "    Read = f.read()"
   ]
  },
  {
   "cell_type": "code",
   "execution_count": 5,
   "metadata": {},
   "outputs": [
    {
     "data": {
      "text/plain": [
       "104"
      ]
     },
     "execution_count": 5,
     "metadata": {},
     "output_type": "execute_result"
    }
   ],
   "source": [
    "# 3) After completion  Read & Write Next goal is to put reading content into lis. also sort it for easily see of frequency \n",
    "# by alphabely,length of string too.\n",
    "lis = Read.split()\n",
    "lis.sort()\n",
    "len(lis)\n"
   ]
  },
  {
   "cell_type": "code",
   "execution_count": 6,
   "metadata": {},
   "outputs": [
    {
     "name": "stdout",
     "output_type": "stream",
     "text": [
      "(i) 1\n",
      "(ii) 1\n",
      "Adder, 1\n",
      "Ahead 1\n",
      "Algorithm 1\n",
      "Applications 1\n",
      "Asynchronous 1\n",
      "Carry 1\n",
      "Circuit, 1\n",
      "Description 1\n",
      "Digital 2\n",
      "Electronics-its 1\n",
      "Hardware 1\n",
      "Language, 1\n",
      "Look 1\n",
      "Machine 1\n",
      "Principles 1\n",
      "Quine-McClusky 1\n",
      "Sequential 1\n",
      "State 1\n",
      "The 3\n",
      "a 1\n",
      "advanced 1\n",
      "algorithm, 1\n",
      "analysis 1\n",
      "and 4\n",
      "approach, 1\n",
      "as 1\n",
      "aspect 1\n",
      "authentic 1\n",
      "best 1\n",
      "build 1\n",
      "by 1\n",
      "chart, 1\n",
      "computer 1\n",
      "continues 1\n",
      "design 1\n",
      "design, 1\n",
      "detailed 1\n",
      "down-to-earth 1\n",
      "edition 2\n",
      "edition. 1\n",
      "etc. 1\n",
      "exit 1\n",
      "field 1\n",
      "for 1\n",
      "improvement 1\n",
      "in 2\n",
      "included 1\n",
      "incorporating 1\n",
      "information 1\n",
      "introductory 1\n",
      "its 1\n",
      "job 1\n",
      "laboratory 1\n",
      "language, 1\n",
      "like 1\n",
      "lucid 1\n",
      "many 1\n",
      "material, 1\n",
      "new 1\n",
      "of 5\n",
      "one 1\n",
      "or 1\n",
      "practices. 1\n",
      "previous 1\n",
      "primarily 1\n",
      "ready-to-use 1\n",
      "seventh 1\n",
      "simple 1\n",
      "sixth 1\n",
      "sought 1\n",
      "started 1\n",
      "strengthening 1\n",
      "strengths 1\n",
      "such 1\n",
      "synthesis 1\n",
      "texts 1\n",
      "that 1\n",
      "the 6\n",
      "to 1\n",
      "topics 1\n",
      "upgradation 1\n",
      "upon 1\n",
      "was 1\n",
      "with 1\n"
     ]
    }
   ],
   "source": [
    "# Why nested loop? it will create O(n2) time and space complexity,\n",
    "# a lot of option but i do as much as simplicity is it. \n",
    "# create empty list for check if that string already pass into inner loop\n",
    "# and count inside loop do for more than one string if present 📦 in any \n",
    "# string else allocaated one each of string.\n",
    "Lis = []\n",
    "dis = {}\n",
    "count = 1\n",
    "for i in range(103):\n",
    "    for j in range(i+1,103):\n",
    "        if lis[i] == lis[j] and lis[i]  not in Lis:\n",
    "            count =  count + 1\n",
    "    if lis[i] not in Lis:\n",
    "        Lis.append(lis[i])\n",
    "        dis[lis[i]] = count\n",
    "        print(lis[i],count)\n",
    "        count = 1\n",
    "    \n",
    "            \n",
    "        "
   ]
  },
  {
   "cell_type": "code",
   "execution_count": 7,
   "metadata": {},
   "outputs": [
    {
     "name": "stdout",
     "output_type": "stream",
     "text": [
      "the 6\n"
     ]
    }
   ],
   "source": [
    "def mosRept():       # To check for most repeated string \n",
    "    store = 1       # why store variable has been assigned one becoz every string in list must has come at least one time.\n",
    "    q = ''         # create two variable one for string,other for inter (p,q) form\n",
    "    p = 1\n",
    "    for i,j in dis.items():        # item method return both key and values of dictionay\n",
    "        if j > store:\n",
    "            q = i \n",
    "            p = j\n",
    "    return print(q,p)\n",
    "mosRept()                  # return most repeatedly string."
   ]
  },
  {
   "cell_type": "code",
   "execution_count": null,
   "metadata": {},
   "outputs": [],
   "source": []
  },
  {
   "cell_type": "code",
   "execution_count": null,
   "metadata": {},
   "outputs": [],
   "source": []
  }
 ],
 "metadata": {
  "kernelspec": {
   "display_name": "Python 3",
   "language": "python",
   "name": "python3"
  },
  "language_info": {
   "codemirror_mode": {
    "name": "ipython",
    "version": 3
   },
   "file_extension": ".py",
   "mimetype": "text/x-python",
   "name": "python",
   "nbconvert_exporter": "python",
   "pygments_lexer": "ipython3",
   "version": "3.7.3"
  }
 },
 "nbformat": 4,
 "nbformat_minor": 2
}
